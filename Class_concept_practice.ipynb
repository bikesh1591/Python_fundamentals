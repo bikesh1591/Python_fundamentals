{
 "cells": [
  {
   "cell_type": "code",
   "execution_count": 5,
   "metadata": {},
   "outputs": [],
   "source": [
    "#Classes practice\n",
    "\n",
    "class phone:\n",
    "    \n",
    "    def make_call(self):\n",
    "        print('making a call')\n",
    "    \n",
    "    def play_game(self):\n",
    "        print('playing game')\n",
    "        \n"
   ]
  },
  {
   "cell_type": "code",
   "execution_count": 6,
   "metadata": {},
   "outputs": [],
   "source": [
    "p1 = phone()"
   ]
  },
  {
   "cell_type": "code",
   "execution_count": 7,
   "metadata": {},
   "outputs": [
    {
     "name": "stdout",
     "output_type": "stream",
     "text": [
      "making a call\n"
     ]
    }
   ],
   "source": [
    "p1.make_call()"
   ]
  },
  {
   "cell_type": "code",
   "execution_count": 8,
   "metadata": {},
   "outputs": [
    {
     "name": "stdout",
     "output_type": "stream",
     "text": [
      "playing game\n"
     ]
    }
   ],
   "source": [
    "p1.play_game()"
   ]
  },
  {
   "cell_type": "code",
   "execution_count": 10,
   "metadata": {},
   "outputs": [],
   "source": [
    "class phone:\n",
    "    \n",
    "    def add_color(self,color):\n",
    "        self.color = color\n",
    "        \n",
    "    def add_cost(self,cost):\n",
    "        self.cost = cost\n",
    "        \n",
    "    def show_color(self):\n",
    "        return self.color\n",
    "    \n",
    "    def show_cost(self):\n",
    "        return self.cost\n",
    "    \n",
    "    def make_call(self):\n",
    "        print('making a call')\n",
    "    \n",
    "    def play_game(self):\n",
    "        print('playing game')"
   ]
  },
  {
   "cell_type": "code",
   "execution_count": 15,
   "metadata": {},
   "outputs": [],
   "source": [
    "p1 = phone()"
   ]
  },
  {
   "cell_type": "code",
   "execution_count": 30,
   "metadata": {},
   "outputs": [],
   "source": [
    "p1.add_color('red')\n",
    "p1.add_cost(522)"
   ]
  },
  {
   "cell_type": "code",
   "execution_count": 39,
   "metadata": {},
   "outputs": [
    {
     "name": "stdout",
     "output_type": "stream",
     "text": [
      "Color of the phone is red\n",
      "\n",
      "Price of the phone is 522\n",
      "making a call\n",
      "playing game\n"
     ]
    }
   ],
   "source": [
    "print(f\"Color of the phone is {p1.show_color()}\")\n",
    "print(f\"\\nPrice of the phone is {p1.show_cost()}\")\n",
    "p1.make_call()\n",
    "p1.play_game()"
   ]
  },
  {
   "cell_type": "code",
   "execution_count": 46,
   "metadata": {},
   "outputs": [],
   "source": [
    "#inheritance in class concept\n",
    "\n",
    "class iphone(phone):\n",
    "    \n",
    "    def cure_cancer(self):\n",
    "        \n",
    "        print('I can cure cancer')"
   ]
  },
  {
   "cell_type": "code",
   "execution_count": 47,
   "metadata": {},
   "outputs": [],
   "source": [
    "p1 = iphone()"
   ]
  },
  {
   "cell_type": "code",
   "execution_count": 49,
   "metadata": {},
   "outputs": [],
   "source": [
    "p1.add_cost(5220)"
   ]
  },
  {
   "cell_type": "code",
   "execution_count": 50,
   "metadata": {},
   "outputs": [
    {
     "data": {
      "text/plain": [
       "5220"
      ]
     },
     "execution_count": 50,
     "metadata": {},
     "output_type": "execute_result"
    }
   ],
   "source": [
    "p1.show_cost()"
   ]
  },
  {
   "cell_type": "code",
   "execution_count": 51,
   "metadata": {},
   "outputs": [
    {
     "name": "stdout",
     "output_type": "stream",
     "text": [
      "I can cure cancer\n"
     ]
    }
   ],
   "source": [
    "p1.cure_cancer()"
   ]
  },
  {
   "cell_type": "code",
   "execution_count": 52,
   "metadata": {},
   "outputs": [],
   "source": [
    "p1.add_color('Grey')"
   ]
  },
  {
   "cell_type": "code",
   "execution_count": 53,
   "metadata": {},
   "outputs": [
    {
     "data": {
      "text/plain": [
       "'Grey'"
      ]
     },
     "execution_count": 53,
     "metadata": {},
     "output_type": "execute_result"
    }
   ],
   "source": [
    "p1.show_color()"
   ]
  },
  {
   "cell_type": "code",
   "execution_count": null,
   "metadata": {},
   "outputs": [],
   "source": []
  }
 ],
 "metadata": {
  "kernelspec": {
   "display_name": "Python 3",
   "language": "python",
   "name": "python3"
  },
  "language_info": {
   "codemirror_mode": {
    "name": "ipython",
    "version": 3
   },
   "file_extension": ".py",
   "mimetype": "text/x-python",
   "name": "python",
   "nbconvert_exporter": "python",
   "pygments_lexer": "ipython3",
   "version": "3.7.6"
  }
 },
 "nbformat": 4,
 "nbformat_minor": 4
}
