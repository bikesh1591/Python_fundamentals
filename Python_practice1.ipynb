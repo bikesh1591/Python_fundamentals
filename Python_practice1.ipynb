{
 "cells": [
  {
   "cell_type": "code",
   "execution_count": 2,
   "metadata": {},
   "outputs": [
    {
     "name": "stdout",
     "output_type": "stream",
     "text": [
      "Enter any number to calculate factorial: 5\n",
      "Factorial of 5 is 120\n"
     ]
    }
   ],
   "source": [
    "#find factorial of any number\n",
    "\n",
    "number = input('Enter any number to calculate factorial: ')\n",
    "\n",
    "number1 = int(number)\n",
    "fact = 1\n",
    "\n",
    "if number1 < 0:\n",
    "    print('Please enter non-negative number')\n",
    "    \n",
    "elif number1 == 0:\n",
    "    print('Factorial of 0 is 1')\n",
    "          \n",
    "elif number1 >0:\n",
    "          \n",
    "\n",
    "         for i in range(1,number1+1):\n",
    "    \n",
    "                    fact = fact * i \n",
    "      \n",
    "                    i = i+1\n",
    "    \n",
    "         print(f\"Factorial of {number} is {fact}\")\n",
    "        "
   ]
  },
  {
   "cell_type": "code",
   "execution_count": 24,
   "metadata": {},
   "outputs": [],
   "source": [
    "#Find average of the user input number using function\n",
    "\n",
    "def avg_number(a,b,c):\n",
    "    \n",
    "    \"\"\"Average of the given number\"\"\"\n",
    "    \n",
    "    average = (a+b+c) / 3\n",
    "    \n",
    "    average = round(average,2)\n",
    "                  \n",
    "    print(f\"Average of the given number is {average}\")\n",
    "    \n"
   ]
  },
  {
   "cell_type": "code",
   "execution_count": 25,
   "metadata": {},
   "outputs": [
    {
     "name": "stdout",
     "output_type": "stream",
     "text": [
      "Average of the given number is 3.67\n"
     ]
    }
   ],
   "source": [
    "avg_number(2,5,4)"
   ]
  },
  {
   "cell_type": "code",
   "execution_count": null,
   "metadata": {},
   "outputs": [],
   "source": [
    "#Given a list iterate it and display numbers which are divisible by 5 and if you find number \n",
    "#greater than 150 stop the loop iteration"
   ]
  },
  {
   "cell_type": "code",
   "execution_count": 28,
   "metadata": {},
   "outputs": [
    {
     "name": "stdout",
     "output_type": "stream",
     "text": [
      "5\n",
      "10\n",
      "60\n",
      "90\n",
      "75\n"
     ]
    }
   ],
   "source": [
    "list1 = [5,10,60,90,75,151,34,160,57,100,149,150,52]\n",
    "\n",
    "for num in list1:\n",
    "    if num > 150:\n",
    "        break\n",
    "    elif num%5 == 0:\n",
    "        print(num)"
   ]
  },
  {
   "cell_type": "code",
   "execution_count": 29,
   "metadata": {},
   "outputs": [
    {
     "name": "stdout",
     "output_type": "stream",
     "text": [
      "5\n",
      "10\n",
      "60\n",
      "90\n",
      "75\n",
      "100\n",
      "150\n"
     ]
    }
   ],
   "source": [
    "list1 = [5,10,60,90,75,151,34,160,57,100,149,150,52]\n",
    "\n",
    "for num in list1:\n",
    "    if num > 150:\n",
    "        continue\n",
    "    elif num%5 == 0:\n",
    "        print(num)"
   ]
  },
  {
   "cell_type": "code",
   "execution_count": 35,
   "metadata": {},
   "outputs": [
    {
     "name": "stdout",
     "output_type": "stream",
     "text": [
      "Enter the number: 5348652\n",
      "Entered number is 5348652 and count is 7\n"
     ]
    }
   ],
   "source": [
    "#Given a number count the total number of digits in a number\n",
    "\n",
    "number = input('Enter the number: ')\n",
    "\n",
    "num = int(number)\n",
    "    \n",
    "count = 0\n",
    "\n",
    "while num != 0:\n",
    "    \n",
    "    num = num // 10\n",
    "    count = count + 1\n",
    "\n",
    "print(f\"Entered number is {number} and count is {count}\")"
   ]
  },
  {
   "cell_type": "code",
   "execution_count": null,
   "metadata": {},
   "outputs": [],
   "source": []
  }
 ],
 "metadata": {
  "kernelspec": {
   "display_name": "Python 3",
   "language": "python",
   "name": "python3"
  }
 },
 "nbformat": 4,
 "nbformat_minor": 4
}
