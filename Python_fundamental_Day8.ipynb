{
 "cells": [
  {
   "cell_type": "code",
   "execution_count": null,
   "metadata": {},
   "outputs": [],
   "source": [
    "#Simple statistics with the list of numbers"
   ]
  },
  {
   "cell_type": "code",
   "execution_count": 4,
   "metadata": {},
   "outputs": [
    {
     "name": "stdout",
     "output_type": "stream",
     "text": [
      "[1, 2, 3, 4, 67, 4, 2, 7, 9, 5, 3, 2, 6, 78, 8]\n"
     ]
    }
   ],
   "source": [
    "number=[1,2,3,4,67,4,2,7,9,5,3,2,6,78,8]\n",
    "print(number)\n"
   ]
  },
  {
   "cell_type": "code",
   "execution_count": 6,
   "metadata": {},
   "outputs": [
    {
     "data": {
      "text/plain": [
       "78"
      ]
     },
     "execution_count": 6,
     "metadata": {},
     "output_type": "execute_result"
    }
   ],
   "source": [
    "max(number)   #max number"
   ]
  },
  {
   "cell_type": "code",
   "execution_count": 7,
   "metadata": {},
   "outputs": [
    {
     "data": {
      "text/plain": [
       "1"
      ]
     },
     "execution_count": 7,
     "metadata": {},
     "output_type": "execute_result"
    }
   ],
   "source": [
    "min(number)  #min number"
   ]
  },
  {
   "cell_type": "code",
   "execution_count": 8,
   "metadata": {},
   "outputs": [
    {
     "data": {
      "text/plain": [
       "201"
      ]
     },
     "execution_count": 8,
     "metadata": {},
     "output_type": "execute_result"
    }
   ],
   "source": [
    "sum(number) #sum of numbers"
   ]
  },
  {
   "cell_type": "code",
   "execution_count": 13,
   "metadata": {},
   "outputs": [
    {
     "name": "stdout",
     "output_type": "stream",
     "text": [
      "enter first number2\n",
      "enter the second number5\n",
      "5 is greater\n"
     ]
    }
   ],
   "source": [
    "#take two numbers from user and print the max number\n",
    "a=input('Enter first number')\n",
    "b=input('Enter the second number')\n",
    "if a>b:\n",
    "    print(f\"{a} is greater\")\n",
    "else:\n",
    "    print(f\"{b} is greater\")\n",
    "\n"
   ]
  },
  {
   "cell_type": "code",
   "execution_count": 22,
   "metadata": {},
   "outputs": [
    {
     "name": "stdout",
     "output_type": "stream",
     "text": [
      "Enter first number: 52\n",
      "Enter the second number: 01\n",
      "Enter the third number: 35\n",
      "52 is greatest\n"
     ]
    }
   ],
   "source": [
    "#take three numbers from user and print the largest number\n",
    "a=input('Enter first number: ')\n",
    "b=input('Enter the second number: ')\n",
    "c=input('Enter the third number: ')\n",
    "if (a>b and a>c):\n",
    "    print(f\"{a} is greatest\")\n",
    "elif (b>a and b>c):\n",
    "    print(f\"{b} is greatest\")\n",
    "else:\n",
    "    print(f\"{c} is greatest\")\n"
   ]
  },
  {
   "cell_type": "code",
   "execution_count": 24,
   "metadata": {},
   "outputs": [],
   "source": [
    "#slicing concept\n",
    "\n",
    "fruits=['apple','banana','orange','grapes','mango','berry']"
   ]
  },
  {
   "cell_type": "code",
   "execution_count": 33,
   "metadata": {},
   "outputs": [
    {
     "name": "stdout",
     "output_type": "stream",
     "text": [
      "['apple', 'banana']\n"
     ]
    }
   ],
   "source": [
    "print(fruits[0:2])\n"
   ]
  },
  {
   "cell_type": "code",
   "execution_count": 34,
   "metadata": {},
   "outputs": [
    {
     "name": "stdout",
     "output_type": "stream",
     "text": [
      "['mango', 'berry']\n"
     ]
    }
   ],
   "source": [
    "print(fruits[4:])"
   ]
  },
  {
   "cell_type": "code",
   "execution_count": 40,
   "metadata": {},
   "outputs": [
    {
     "name": "stdout",
     "output_type": "stream",
     "text": [
      "1 is odd\n",
      "2 is even\n",
      "3 is odd\n",
      "4 is even\n",
      "67 is odd\n",
      "4 is even\n",
      "2 is even\n",
      "7 is odd\n",
      "9 is odd\n",
      "5 is odd\n",
      "3 is odd\n",
      "2 is even\n",
      "6 is even\n",
      "78 is even\n",
      "8 is even\n"
     ]
    }
   ],
   "source": [
    "#sum of the number in list if the number is even\n",
    "numbers=[1,2,3,4,67,4,2,7,9,5,3,2,6,78,8]\n",
    "\n",
    "\n",
    "for number in numbers:\n",
    "    if (number%2==0):\n",
    "        print(f\"{number} is even\")\n",
    "    else:\n",
    "        print(f\"{number} is odd\")\n",
    "        \n",
    "    \n"
   ]
  },
  {
   "cell_type": "code",
   "execution_count": null,
   "metadata": {},
   "outputs": [],
   "source": []
  },
  {
   "cell_type": "code",
   "execution_count": null,
   "metadata": {},
   "outputs": [],
   "source": []
  },
  {
   "cell_type": "code",
   "execution_count": null,
   "metadata": {},
   "outputs": [],
   "source": []
  }
 ],
 "metadata": {
  "kernelspec": {
   "display_name": "Python 3",
   "language": "python",
   "name": "python3"
  },
  "language_info": {
   "codemirror_mode": {
    "name": "ipython",
    "version": 3
   },
   "file_extension": ".py",
   "mimetype": "text/x-python",
   "name": "python",
   "nbconvert_exporter": "python",
   "pygments_lexer": "ipython3",
   "version": "3.7.6"
  }
 },
 "nbformat": 4,
 "nbformat_minor": 4
}
