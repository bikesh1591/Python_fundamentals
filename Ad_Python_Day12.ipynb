{
 "cells": [
  {
   "cell_type": "code",
   "execution_count": null,
   "metadata": {},
   "outputs": [],
   "source": [
    "#understanding dataframe"
   ]
  },
  {
   "cell_type": "code",
   "execution_count": 1,
   "metadata": {},
   "outputs": [],
   "source": [
    "import pandas as pd\n",
    "import numpy as np"
   ]
  },
  {
   "cell_type": "code",
   "execution_count": 3,
   "metadata": {},
   "outputs": [
    {
     "name": "stdout",
     "output_type": "stream",
     "text": [
      "Empty DataFrame\n",
      "Columns: []\n",
      "Index: []\n"
     ]
    }
   ],
   "source": [
    "df1 = pd.DataFrame()\n",
    "\n",
    "print(df1)"
   ]
  },
  {
   "cell_type": "code",
   "execution_count": 4,
   "metadata": {},
   "outputs": [
    {
     "name": "stdout",
     "output_type": "stream",
     "text": [
      "           0\n",
      "0        ram\n",
      "1      shyam\n",
      "2      sanju\n",
      "3  aishwarya\n",
      "4     sweety\n",
      "5      bicky\n"
     ]
    }
   ],
   "source": [
    "data = ['ram','shyam','sanju','aishwarya','sweety','bicky']\n",
    "\n",
    "df2 = pd.DataFrame(data)\n",
    "\n",
    "print(df2)"
   ]
  },
  {
   "cell_type": "code",
   "execution_count": 6,
   "metadata": {},
   "outputs": [
    {
     "name": "stdout",
     "output_type": "stream",
     "text": [
      "       Names\n",
      "0        ram\n",
      "1      shyam\n",
      "2      sanju\n",
      "3  aishwarya\n",
      "4     sweety\n",
      "5      bicky\n"
     ]
    }
   ],
   "source": [
    "data = ['ram','shyam','sanju','aishwarya','sweety','bicky']\n",
    "\n",
    "df2 = pd.DataFrame(data,columns=['Names'])\n",
    "\n",
    "print(df2)"
   ]
  },
  {
   "cell_type": "code",
   "execution_count": 7,
   "metadata": {},
   "outputs": [
    {
     "name": "stdout",
     "output_type": "stream",
     "text": [
      "       Names  Marks\n",
      "0        ram     14\n",
      "1      shyam      5\n",
      "2      sanju     11\n",
      "3  aishwarya      9\n",
      "4     sweety     11\n",
      "5      bicky     17\n"
     ]
    }
   ],
   "source": [
    "data = [['ram',14],['shyam',5],['sanju',11],['aishwarya',9],['sweety',11],['bicky',17]]\n",
    "\n",
    "df3 = pd.DataFrame(data,columns=['Names','Marks'])\n",
    "\n",
    "print(df3)"
   ]
  },
  {
   "cell_type": "code",
   "execution_count": 8,
   "metadata": {},
   "outputs": [
    {
     "name": "stdout",
     "output_type": "stream",
     "text": [
      "       Names  Marks\n",
      "0        ram   14.0\n",
      "1      shyam    5.0\n",
      "2      sanju   11.0\n",
      "3  aishwarya    9.0\n",
      "4     sweety   11.0\n",
      "5      bicky   17.0\n"
     ]
    }
   ],
   "source": [
    "data = [['ram',14],['shyam',5],['sanju',11],['aishwarya',9],['sweety',11],['bicky',17]]\n",
    "\n",
    "df4 = pd.DataFrame(data,columns=['Names','Marks'],dtype=float)\n",
    "\n",
    "print(df4)"
   ]
  },
  {
   "cell_type": "code",
   "execution_count": null,
   "metadata": {},
   "outputs": [],
   "source": []
  }
 ],
 "metadata": {
  "kernelspec": {
   "display_name": "Python 3",
   "language": "python",
   "name": "python3"
  },
  "language_info": {
   "codemirror_mode": {
    "name": "ipython",
    "version": 3
   },
   "file_extension": ".py",
   "mimetype": "text/x-python",
   "name": "python",
   "nbconvert_exporter": "python",
   "pygments_lexer": "ipython3",
   "version": "3.7.6"
  }
 },
 "nbformat": 4,
 "nbformat_minor": 4
}
