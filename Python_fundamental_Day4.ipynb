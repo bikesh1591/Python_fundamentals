{
 "cells": [
  {
   "cell_type": "code",
   "execution_count": null,
   "metadata": {},
   "outputs": [],
   "source": [
    "#Introduction to list"
   ]
  },
  {
   "cell_type": "code",
   "execution_count": 3,
   "metadata": {},
   "outputs": [
    {
     "name": "stdout",
     "output_type": "stream",
     "text": [
      "['sonu', 'rohit', 'raju', 'shweta', 'singh']\n"
     ]
    },
    {
     "data": {
      "text/plain": [
       "list"
      ]
     },
     "execution_count": 3,
     "metadata": {},
     "output_type": "execute_result"
    }
   ],
   "source": [
    "names=['sonu','rohit','raju','shweta','singh']\n",
    "print(names)\n",
    "type(names)\n"
   ]
  },
  {
   "cell_type": "code",
   "execution_count": null,
   "metadata": {},
   "outputs": [],
   "source": [
    "#indexing of list"
   ]
  },
  {
   "cell_type": "code",
   "execution_count": 8,
   "metadata": {},
   "outputs": [
    {
     "name": "stdout",
     "output_type": "stream",
     "text": [
      "['sonu', 'rohit', 'raju', 'shweta', 'singh']\n",
      "raju\n",
      "singh\n"
     ]
    }
   ],
   "source": [
    "names=['sonu','rohit','raju','shweta','singh']\n",
    "print(names)\n",
    "print(names[2])\n",
    "print(names[-1])\n"
   ]
  },
  {
   "cell_type": "code",
   "execution_count": null,
   "metadata": {},
   "outputs": [],
   "source": [
    "#reassign the value to an element of a list"
   ]
  },
  {
   "cell_type": "code",
   "execution_count": 9,
   "metadata": {},
   "outputs": [
    {
     "name": "stdout",
     "output_type": "stream",
     "text": [
      "['sonu', 'bicky', 'raju', 'shweta', 'singh']\n"
     ]
    }
   ],
   "source": [
    "names=['sonu','rohit','raju','shweta','singh']\n",
    "names[1]='bicky'\n",
    "print(names)\n"
   ]
  },
  {
   "cell_type": "code",
   "execution_count": null,
   "metadata": {},
   "outputs": [],
   "source": [
    "#add element to the list"
   ]
  },
  {
   "cell_type": "code",
   "execution_count": 12,
   "metadata": {},
   "outputs": [
    {
     "name": "stdout",
     "output_type": "stream",
     "text": [
      "['sonu', 'rohit', 'raju', 'shweta', 'singh', 'sanju']\n"
     ]
    }
   ],
   "source": [
    "names=['sonu','rohit','raju','shweta','singh']  #append add the element to the last by default\n",
    "names.append('sanju')\n",
    "print(names)\n",
    "\n"
   ]
  },
  {
   "cell_type": "code",
   "execution_count": 13,
   "metadata": {},
   "outputs": [
    {
     "name": "stdout",
     "output_type": "stream",
     "text": [
      "['sonu', 'kuber', 'rohit', 'raju', 'shweta', 'singh']\n"
     ]
    }
   ],
   "source": [
    "names=['sonu','rohit','raju','shweta','singh']  #insert add the element at any desire position\n",
    "names.insert(1,'kuber')\n",
    "print(names)\n"
   ]
  },
  {
   "cell_type": "code",
   "execution_count": null,
   "metadata": {},
   "outputs": [],
   "source": [
    "#how to delete element from the lis"
   ]
  },
  {
   "cell_type": "code",
   "execution_count": 17,
   "metadata": {},
   "outputs": [
    {
     "name": "stdout",
     "output_type": "stream",
     "text": [
      "['rohit', 'raju', 'shweta', 'singh']\n"
     ]
    }
   ],
   "source": [
    "names=['sonu','rohit','raju','shweta','singh']    #del physically delete the element from the list\n",
    "del names[0]\n",
    "print(names)\n"
   ]
  },
  {
   "cell_type": "code",
   "execution_count": 18,
   "metadata": {},
   "outputs": [
    {
     "name": "stdout",
     "output_type": "stream",
     "text": [
      "['sonu', 'rohit', 'raju', 'shweta']\n"
     ]
    }
   ],
   "source": [
    "names=['sonu','rohit','raju','shweta','singh']  #pop does not delete the element pysically  though store a carbon copy of \n",
    "names.pop()                                     #deleted item internally\n",
    "print(names)\n"
   ]
  },
  {
   "cell_type": "code",
   "execution_count": 19,
   "metadata": {},
   "outputs": [
    {
     "name": "stdout",
     "output_type": "stream",
     "text": [
      "['sonu', 'rohit', 'shweta', 'singh']\n"
     ]
    }
   ],
   "source": [
    "names=['sonu','rohit','raju','shweta','singh']\n",
    "names.pop(2)\n",
    "print(names)\n"
   ]
  },
  {
   "cell_type": "code",
   "execution_count": 25,
   "metadata": {},
   "outputs": [
    {
     "name": "stdout",
     "output_type": "stream",
     "text": [
      "Rohit Raju Shweta\n"
     ]
    }
   ],
   "source": [
    "names=['sonu','rohit','raju','shweta','singh']\n",
    "print(names[1].title(),names[2].title(),names[3].title())\n"
   ]
  },
  {
   "cell_type": "code",
   "execution_count": 27,
   "metadata": {},
   "outputs": [
    {
     "name": "stdout",
     "output_type": "stream",
     "text": [
      "Good going,Rohit\n"
     ]
    }
   ],
   "source": [
    "names=['sonu','rohit','raju','shweta','singh']\n",
    "print(f\"Good going,{names[1].title()}\")"
   ]
  },
  {
   "cell_type": "code",
   "execution_count": null,
   "metadata": {},
   "outputs": [],
   "source": []
  }
 ],
 "metadata": {
  "kernelspec": {
   "display_name": "Python 3",
   "language": "python",
   "name": "python3"
  },
  "language_info": {
   "codemirror_mode": {
    "name": "ipython",
    "version": 3
   },
   "file_extension": ".py",
   "mimetype": "text/x-python",
   "name": "python",
   "nbconvert_exporter": "python",
   "pygments_lexer": "ipython3",
   "version": "3.7.6"
  }
 },
 "nbformat": 4,
 "nbformat_minor": 4
}
