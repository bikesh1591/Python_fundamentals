{
 "cells": [
  {
   "cell_type": "code",
   "execution_count": 9,
   "metadata": {},
   "outputs": [
    {
     "name": "stdout",
     "output_type": "stream",
     "text": [
      "Enter the temperature in celcius: 45\n",
      "45C is 113.0F\n"
     ]
    }
   ],
   "source": [
    "#code to convert celcius to farenheit\n",
    "\n",
    "celcius=int(input('Enter the temperature in celcius: '))\n",
    "farenheit= celcius*(9/5)+32\n",
    "print(f\"{celcius}C is {farenheit}F\")"
   ]
  },
  {
   "cell_type": "code",
   "execution_count": 28,
   "metadata": {},
   "outputs": [
    {
     "name": "stdout",
     "output_type": "stream",
     "text": [
      "Enter the temp in F or C like 5F or 5C5e\n",
      "Enter temp in valid format\n"
     ]
    }
   ],
   "source": [
    "#convert temp to farenheit or celcius based on the input\n",
    "\n",
    "temp = input('Enter the temp in F or C like 5F or 5C')\n",
    "C= temp[-1]\n",
    "x = int(temp[0:-1])\n",
    "if C.upper() == 'F':\n",
    "    temp1 = (5/9) * (x-32)\n",
    "    print(f\"temperature = {temp1} C\")\n",
    "elif C.upper() == 'C':\n",
    "    temp1 = (9/5) * x + 32\n",
    "    print(f\"temperature = {temp1} F\")\n",
    "                \n",
    "else:\n",
    "                print('Enter temp in valid format')\n",
    "                \n",
    "                \n",
    "          \n",
    "     "
   ]
  },
  {
   "cell_type": "code",
   "execution_count": 41,
   "metadata": {},
   "outputs": [
    {
     "name": "stdout",
     "output_type": "stream",
     "text": [
      "Enter the temp to convert: 25\n",
      "Enter C to convert in celcius or F to convert in Farenheit: g\n",
      "Enter temp in valid format\n"
     ]
    }
   ],
   "source": [
    "#convert temp to farenheit or celcius based on the input\n",
    "\n",
    "temp = int(input('Enter the temp to convert: '))\n",
    "convert = input('Enter C to convert in celcius or F to convert in Farenheit: ')\n",
    "\n",
    "if convert.upper() == 'C':\n",
    "    temp1 = (5/9) * (temp-32)\n",
    "    print(f\"temperature = {temp1} C\")\n",
    "elif convert.upper() == 'F':\n",
    "    temp1 = ((9/5) * temp) + 32\n",
    "    print(f\"temperature = {temp1} F\")\n",
    "                \n",
    "else:\n",
    "                print('Enter temp in valid format')\n",
    "        "
   ]
  },
  {
   "cell_type": "code",
   "execution_count": 46,
   "metadata": {},
   "outputs": [
    {
     "name": "stdout",
     "output_type": "stream",
     "text": [
      "count of even number is 14\n",
      "count of odd number is 15\n"
     ]
    }
   ],
   "source": [
    "#count the even number and odd number in a given list of number\n",
    "\n",
    "numbers = list(range(1,30))\n",
    "count1 = 0\n",
    "count2 = 0\n",
    "for number in numbers:\n",
    "    if number % 2 == 0:\n",
    "        count1 = count1 + 1\n",
    "    else:\n",
    "        count2 = count2 + 1 \n",
    "        \n",
    "print(f\"count of even number is {count1}\")\n",
    "print(f\"count of odd number is {count2}\")     "
   ]
  },
  {
   "cell_type": "code",
   "execution_count": 48,
   "metadata": {},
   "outputs": [
    {
     "name": "stdout",
     "output_type": "stream",
     "text": [
      "1\n",
      "2\n",
      "Fizz\n",
      "4\n",
      "Buzz\n",
      "Fizz\n",
      "7\n",
      "8\n",
      "Fizz\n",
      "Buzz\n",
      "11\n",
      "Fizz\n",
      "13\n",
      "14\n",
      "FizzBuzz\n",
      "16\n",
      "17\n",
      "Fizz\n",
      "19\n",
      "Buzz\n",
      "Fizz\n",
      "22\n",
      "23\n",
      "Fizz\n",
      "Buzz\n",
      "26\n",
      "Fizz\n",
      "28\n",
      "29\n",
      "FizzBuzz\n",
      "31\n",
      "32\n",
      "Fizz\n",
      "34\n",
      "Buzz\n",
      "Fizz\n",
      "37\n",
      "38\n",
      "Fizz\n",
      "Buzz\n",
      "41\n",
      "Fizz\n",
      "43\n",
      "44\n",
      "FizzBuzz\n",
      "46\n",
      "47\n",
      "Fizz\n",
      "49\n",
      "Buzz\n"
     ]
    }
   ],
   "source": [
    "# Write a Python program which iterates the integers from 1 to 50. For multiples of three print \"Fizz\" \n",
    "#instead of the number and for the multiples of five print \"Buzz\". For numbers which are multiples of both three and five \n",
    "#print \"FizzBuzz\".\n",
    "\n",
    "for number in range(1,51):\n",
    "    if number % 3 == 0 and number % 5 ==0:\n",
    "        print('FizzBuzz')\n",
    "    elif number % 3 == 0:\n",
    "        print('Fizz')\n",
    "    elif number % 5 == 0:\n",
    "        print('Buzz')\n",
    "    else:\n",
    "        print(number)"
   ]
  },
  {
   "cell_type": "code",
   "execution_count": 51,
   "metadata": {},
   "outputs": [
    {
     "name": "stdout",
     "output_type": "stream",
     "text": [
      "Enter a sentencethis is a tree\n",
      "['this', 'is', 'a', 'tree']\n"
     ]
    }
   ],
   "source": [
    "#code to accept a string from user and split it into words of a list\n",
    "\n",
    "string1 = input('Enter a sentence')\n",
    "new_string = string1.split()\n",
    "print(new_string)"
   ]
  },
  {
   "cell_type": "code",
   "execution_count": 52,
   "metadata": {},
   "outputs": [
    {
     "name": "stdout",
     "output_type": "stream",
     "text": [
      "Enter a sentenceSugar is so sweet\n",
      "['Sugar i', ' ', 'o ', 'weet']\n"
     ]
    }
   ],
   "source": [
    "string1 = input('Enter a sentence')\n",
    "new_string = string1.split('s')\n",
    "print(new_string)"
   ]
  },
  {
   "cell_type": "code",
   "execution_count": 53,
   "metadata": {},
   "outputs": [
    {
     "name": "stdout",
     "output_type": "stream",
     "text": [
      "Enter a sentenceSugar is so sweet\n",
      "['', 'ugar i', ' ', 'o ', 'weet']\n"
     ]
    }
   ],
   "source": [
    "string1 = input('Enter a sentence')\n",
    "string1 = string1.lower()\n",
    "new_string = string1.split('s')\n",
    "print(new_string)"
   ]
  },
  {
   "cell_type": "code",
   "execution_count": null,
   "metadata": {},
   "outputs": [],
   "source": []
  },
  {
   "cell_type": "code",
   "execution_count": null,
   "metadata": {},
   "outputs": [],
   "source": []
  },
  {
   "cell_type": "code",
   "execution_count": null,
   "metadata": {},
   "outputs": [],
   "source": []
  }
 ],
 "metadata": {
  "kernelspec": {
   "display_name": "Python 3",
   "language": "python",
   "name": "python3"
  },
  "language_info": {
   "codemirror_mode": {
    "name": "ipython",
    "version": 3
   },
   "file_extension": ".py",
   "mimetype": "text/x-python",
   "name": "python",
   "nbconvert_exporter": "python",
   "pygments_lexer": "ipython3",
   "version": "3.7.6"
  }
 },
 "nbformat": 4,
 "nbformat_minor": 4
}
