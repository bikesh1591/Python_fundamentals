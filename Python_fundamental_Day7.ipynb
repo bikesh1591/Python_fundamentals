{
 "cells": [
  {
   "cell_type": "code",
   "execution_count": null,
   "metadata": {},
   "outputs": [],
   "source": [
    "#Introduction to If condition"
   ]
  },
  {
   "cell_type": "code",
   "execution_count": 1,
   "metadata": {},
   "outputs": [
    {
     "name": "stdout",
     "output_type": "stream",
     "text": [
      "['apple', 'banana', 'orange', 'mango', 'grape']\n"
     ]
    }
   ],
   "source": [
    "fruits=['apple','banana','orange','mango','grape']\n",
    "print(fruits)"
   ]
  },
  {
   "cell_type": "code",
   "execution_count": 9,
   "metadata": {},
   "outputs": [
    {
     "name": "stdout",
     "output_type": "stream",
     "text": [
      "Apple is good for health\n",
      "Banana is yellow in color\n",
      "All fruits are good for health\n",
      "All fruits are good for health\n",
      "All fruits are good for health\n"
     ]
    }
   ],
   "source": [
    "for fruit in fruits:\n",
    "    if fruit=='apple':\n",
    "        print(f\"{fruit.title()} is good for health\")\n",
    "    elif fruit=='banana':\n",
    "        print(f\"{fruit.title()} is yellow in color\")\n",
    "    else:\n",
    "        print('All fruits are good for health')\n",
    "        \n",
    "        "
   ]
  },
  {
   "cell_type": "code",
   "execution_count": 14,
   "metadata": {},
   "outputs": [
    {
     "name": "stdout",
     "output_type": "stream",
     "text": [
      "please enter your name:sonu\n",
      "Sonu,you are a nice person\n"
     ]
    }
   ],
   "source": [
    "#user accepted inputs\n",
    "name=input('please enter your name:')\n",
    "print(f\"{name.title()},you are a nice person\")\n",
    "           "
   ]
  },
  {
   "cell_type": "code",
   "execution_count": 17,
   "metadata": {},
   "outputs": [
    {
     "name": "stdout",
     "output_type": "stream",
     "text": [
      "enter your name: bikesh\n",
      "enter your age: 28\n",
      "Bikesh,your age is 28\n"
     ]
    }
   ],
   "source": [
    "name=input('enter your name: ')\n",
    "age=input('enter your age: ')\n",
    "print(f\"{name.title()},your age is {age}\")\n",
    "      "
   ]
  },
  {
   "cell_type": "code",
   "execution_count": 22,
   "metadata": {},
   "outputs": [
    {
     "name": "stdout",
     "output_type": "stream",
     "text": [
      "enter your name: bikesh\n",
      "enter your age: 23\n",
      "Bikesh,your age is 23, you are young\n"
     ]
    }
   ],
   "source": [
    "name=input('enter your name: ')    #by default input takes the string as input\n",
    "age=input('enter your age: ')\n",
    "age=int(age)\n",
    "if age<=25:\n",
    "    print(f\"{name.title()},your age is {age}, you are young\")"
   ]
  },
  {
   "cell_type": "code",
   "execution_count": null,
   "metadata": {},
   "outputs": [],
   "source": []
  },
  {
   "cell_type": "code",
   "execution_count": null,
   "metadata": {},
   "outputs": [],
   "source": []
  },
  {
   "cell_type": "code",
   "execution_count": null,
   "metadata": {},
   "outputs": [],
   "source": []
  },
  {
   "cell_type": "code",
   "execution_count": null,
   "metadata": {},
   "outputs": [],
   "source": []
  }
 ],
 "metadata": {
  "kernelspec": {
   "display_name": "Python 3",
   "language": "python",
   "name": "python3"
  },
  "language_info": {
   "codemirror_mode": {
    "name": "ipython",
    "version": 3
   },
   "file_extension": ".py",
   "mimetype": "text/x-python",
   "name": "python",
   "nbconvert_exporter": "python",
   "pygments_lexer": "ipython3",
   "version": "3.7.6"
  }
 },
 "nbformat": 4,
 "nbformat_minor": 4
}
