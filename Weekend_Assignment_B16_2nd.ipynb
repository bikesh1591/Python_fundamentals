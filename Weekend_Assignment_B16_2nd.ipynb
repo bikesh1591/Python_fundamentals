{
 "cells": [
  {
   "cell_type": "code",
   "execution_count": null,
   "metadata": {},
   "outputs": [],
   "source": []
  },
  {
   "cell_type": "code",
   "execution_count": null,
   "metadata": {},
   "outputs": [],
   "source": []
  },
  {
   "cell_type": "code",
   "execution_count": null,
   "metadata": {},
   "outputs": [],
   "source": [
    "#T-Shirt: Write a function called make_shirt() that accepts a size and the text of a message \n",
    "#that should be printed on the shirt. The function should print a sentence summarizing the size \n",
    "#of the shirt and the message printed on it.\n",
    "\n",
    "#Call the function once using positional arguments to make a shirt. Call the function a second time using keyword arguments."
   ]
  },
  {
   "cell_type": "code",
   "execution_count": null,
   "metadata": {},
   "outputs": [],
   "source": []
  },
  {
   "cell_type": "code",
   "execution_count": 12,
   "metadata": {},
   "outputs": [],
   "source": [
    "def make_shirt(size,text):\n",
    "    \n",
    "    \"\"\"taking size and text to be printed on a shirt\"\"\"\n",
    "    \n",
    "    \n",
    "    print(f\"Size is {size.upper()} and text to be printed is {text.upper()}\")\n",
    "    \n",
    "    "
   ]
  },
  {
   "cell_type": "code",
   "execution_count": 13,
   "metadata": {},
   "outputs": [
    {
     "name": "stdout",
     "output_type": "stream",
     "text": [
      "Enter the size: m\n",
      "Enter the text to be printed: cool dude!!!\n",
      "Size is M and text to be printed is COOL DUDE!!!\n"
     ]
    }
   ],
   "source": [
    "size = input('Enter the size: ')   #size entered by user\n",
    "text = input('Enter the text to be printed: ')  #text entered by user\n",
    "\n",
    "make_shirt(size,text)   #calling function using positional parameter"
   ]
  },
  {
   "cell_type": "code",
   "execution_count": null,
   "metadata": {},
   "outputs": [],
   "source": [
    "#calling function using keyword parameter"
   ]
  },
  {
   "cell_type": "code",
   "execution_count": 14,
   "metadata": {},
   "outputs": [],
   "source": [
    "def make_shirt(size,text):\n",
    "    \n",
    "    \"\"\"taking size and text to be printed on a shirt\"\"\"\n",
    "    \n",
    "    \n",
    "    print(f\"Size is {size.upper()} and text to be printed is {text.upper()}\")\n",
    "    "
   ]
  },
  {
   "cell_type": "code",
   "execution_count": 16,
   "metadata": {},
   "outputs": [
    {
     "name": "stdout",
     "output_type": "stream",
     "text": [
      "Size is M and text to be printed is COOL DUDE!!!\n"
     ]
    }
   ],
   "source": [
    "make_shirt(size='m',text='cool dude!!!') ##calling function using keyword parameter"
   ]
  },
  {
   "cell_type": "code",
   "execution_count": null,
   "metadata": {},
   "outputs": [],
   "source": []
  },
  {
   "cell_type": "code",
   "execution_count": null,
   "metadata": {},
   "outputs": [],
   "source": [
    "#Large Shirts: Modify the make_shirt() function so that shirts are large by default with a message that reads I love Python. \n",
    "#Make a large shirt and a medium shirt with the default message, and a shirt of any size with a different message."
   ]
  },
  {
   "cell_type": "code",
   "execution_count": 24,
   "metadata": {},
   "outputs": [],
   "source": [
    "def make_shirt(size='L',text='I love Python'): #setting default value for parameters\n",
    "    \n",
    "    \"\"\"taking size and text to be printed on a shirt\"\"\"\n",
    "    \n",
    "    \n",
    "    print(f\"Size is {size.upper()} and text to be printed is {text.upper()}\")"
   ]
  },
  {
   "cell_type": "code",
   "execution_count": 25,
   "metadata": {},
   "outputs": [
    {
     "name": "stdout",
     "output_type": "stream",
     "text": [
      "Size is L and text to be printed is I LOVE PYTHON\n"
     ]
    }
   ],
   "source": [
    "make_shirt()"
   ]
  },
  {
   "cell_type": "code",
   "execution_count": 26,
   "metadata": {},
   "outputs": [
    {
     "name": "stdout",
     "output_type": "stream",
     "text": [
      "Size is M and text to be printed is I LOVE PYTHON\n"
     ]
    }
   ],
   "source": [
    "make_shirt('M')"
   ]
  },
  {
   "cell_type": "code",
   "execution_count": 27,
   "metadata": {},
   "outputs": [
    {
     "name": "stdout",
     "output_type": "stream",
     "text": [
      "Size is S and text to be printed is DEADPOOL!!!\n"
     ]
    }
   ],
   "source": [
    "make_shirt('S','Deadpool!!!')"
   ]
  },
  {
   "cell_type": "code",
   "execution_count": 54,
   "metadata": {},
   "outputs": [],
   "source": [
    "#Cities: Write a function called describe_city() that accepts the name of a city and its country. \n",
    "#The function should print a simple sentence, such as Reykjavik is in Iceland. Give the parameter for the country \n",
    "#a default value. Call your function for three different cities, at least one of which is not in the default country.\n"
   ]
  },
  {
   "cell_type": "code",
   "execution_count": 75,
   "metadata": {},
   "outputs": [],
   "source": [
    "def describe_city(city,country='india'):\n",
    "    \n",
    "    \"\"\"Describing city of the country\"\"\"\n",
    "    \n",
    "    for city in city_name:\n",
    "        \n",
    "        if city == user_city:\n",
    "            \n",
    "            print(f\"{user_city.title()} is in {country.title()}\")\n",
    "            \n",
    "        else:\n",
    "            pass\n",
    "        \n",
    "        \n",
    "    \n",
    "    \n",
    "    "
   ]
  },
  {
   "cell_type": "code",
   "execution_count": 76,
   "metadata": {},
   "outputs": [
    {
     "name": "stdout",
     "output_type": "stream",
     "text": [
      "Enter the city name: patna\n",
      "Patna is in India\n"
     ]
    }
   ],
   "source": [
    "city_name = ['patna','delhi','calcutta','chennai']\n",
    "\n",
    "user_city = input('Enter the city name: ')\n",
    "\n",
    "\n",
    "describe_city(user_city)"
   ]
  },
  {
   "cell_type": "code",
   "execution_count": 77,
   "metadata": {},
   "outputs": [
    {
     "name": "stdout",
     "output_type": "stream",
     "text": [
      "Enter the city name: bangalore\n"
     ]
    }
   ],
   "source": [
    "\n",
    "user_city = input('Enter the city name: ')\n",
    "\n",
    "describe_city(user_city)"
   ]
  },
  {
   "cell_type": "code",
   "execution_count": 69,
   "metadata": {},
   "outputs": [
    {
     "name": "stdout",
     "output_type": "stream",
     "text": [
      "Enter the city name: bangalore\n"
     ]
    }
   ],
   "source": [
    "user_city = input('Enter the city name: ')\n",
    "\n",
    "describe_city(user_city)"
   ]
  },
  {
   "cell_type": "code",
   "execution_count": 78,
   "metadata": {},
   "outputs": [
    {
     "name": "stdout",
     "output_type": "stream",
     "text": [
      "Enter the city name: calcutta\n",
      "Calcutta is in India\n"
     ]
    }
   ],
   "source": [
    "user_city = input('Enter the city name: ')\n",
    "\n",
    "describe_city(user_city)"
   ]
  },
  {
   "cell_type": "code",
   "execution_count": null,
   "metadata": {},
   "outputs": [],
   "source": []
  }
 ],
 "metadata": {
  "kernelspec": {
   "display_name": "Python 3",
   "language": "python",
   "name": "python3"
  },
  "language_info": {
   "codemirror_mode": {
    "name": "ipython",
    "version": 3
   },
   "file_extension": ".py",
   "mimetype": "text/x-python",
   "name": "python",
   "nbconvert_exporter": "python",
   "pygments_lexer": "ipython3",
   "version": "3.7.6"
  }
 },
 "nbformat": 4,
 "nbformat_minor": 4
}
