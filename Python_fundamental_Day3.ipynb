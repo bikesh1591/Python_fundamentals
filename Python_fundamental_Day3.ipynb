{
 "cells": [
  {
   "cell_type": "code",
   "execution_count": null,
   "metadata": {},
   "outputs": [],
   "source": [
    "#Introductoion to F string"
   ]
  },
  {
   "cell_type": "code",
   "execution_count": 1,
   "metadata": {},
   "outputs": [
    {
     "name": "stdout",
     "output_type": "stream",
     "text": [
      "bikesh kumar\n"
     ]
    }
   ],
   "source": [
    "first_name='bikesh'\n",
    "last_name='kumar'\n",
    "full_name= f\"{first_name} {last_name}\"\n",
    "print(full_name)\n"
   ]
  },
  {
   "cell_type": "code",
   "execution_count": 2,
   "metadata": {},
   "outputs": [
    {
     "name": "stdout",
     "output_type": "stream",
     "text": [
      "bikesh kumar\n"
     ]
    }
   ],
   "source": [
    "print(full_name)\n"
   ]
  },
  {
   "cell_type": "code",
   "execution_count": 6,
   "metadata": {},
   "outputs": [
    {
     "name": "stdout",
     "output_type": "stream",
     "text": [
      "bikesh kumar,start learning Python\n"
     ]
    }
   ],
   "source": [
    "message=f\"{first_name} {last_name},start learning Python\"\n",
    "print(message)\n"
   ]
  },
  {
   "cell_type": "code",
   "execution_count": 7,
   "metadata": {},
   "outputs": [
    {
     "name": "stdout",
     "output_type": "stream",
     "text": [
      "Bikesh Kumar,Start Learning Python\n"
     ]
    }
   ],
   "source": [
    "\n",
    "print(message.title())\n"
   ]
  },
  {
   "cell_type": "code",
   "execution_count": 8,
   "metadata": {},
   "outputs": [
    {
     "name": "stdout",
     "output_type": "stream",
     "text": [
      "Bikesh Kumar,start learning Python\n"
     ]
    }
   ],
   "source": [
    "message=f\"{first_name.title()} {last_name.title()},start learning Python\"\n",
    "print(message)"
   ]
  },
  {
   "cell_type": "code",
   "execution_count": null,
   "metadata": {},
   "outputs": [],
   "source": [
    "#Adding white spaces"
   ]
  },
  {
   "cell_type": "code",
   "execution_count": 9,
   "metadata": {},
   "outputs": [
    {
     "name": "stdout",
     "output_type": "stream",
     "text": [
      "python c java c++\n"
     ]
    }
   ],
   "source": [
    "print('python','c','java','c++')\n"
   ]
  },
  {
   "cell_type": "code",
   "execution_count": null,
   "metadata": {},
   "outputs": [],
   "source": [
    "print('python','c','java','c++')"
   ]
  },
  {
   "cell_type": "code",
   "execution_count": 11,
   "metadata": {},
   "outputs": [
    {
     "name": "stdout",
     "output_type": "stream",
     "text": [
      "\n",
      "python \n",
      "c \n",
      "java \n",
      "c++\n"
     ]
    }
   ],
   "source": [
    "print('\\npython','\\nc','\\njava','\\nc++')     #\\n--write character in the new line\n"
   ]
  },
  {
   "cell_type": "code",
   "execution_count": 12,
   "metadata": {},
   "outputs": [
    {
     "name": "stdout",
     "output_type": "stream",
     "text": [
      "\tpython \tc \tjava \tc++\n"
     ]
    }
   ],
   "source": [
    "print('\\tpython','\\tc','\\tjava','\\tc++')   #t---write character bt deloimitinh tab"
   ]
  },
  {
   "cell_type": "code",
   "execution_count": 13,
   "metadata": {},
   "outputs": [
    {
     "name": "stdout",
     "output_type": "stream",
     "text": [
      "\t\n",
      "python \t\n",
      "c \t\n",
      "java \t\n",
      "c++\n"
     ]
    }
   ],
   "source": [
    "print('\\t\\npython','\\t\\nc','\\t\\njava','\\t\\nc++')\n"
   ]
  },
  {
   "cell_type": "code",
   "execution_count": 14,
   "metadata": {},
   "outputs": [
    {
     "name": "stdout",
     "output_type": "stream",
     "text": [
      "\n",
      "\tpython \n",
      "\tc \n",
      "\tjava \n",
      "\tc++\n"
     ]
    }
   ],
   "source": [
    "print('\\n\\tpython','\\n\\tc','\\n\\tjava','\\n\\tc++')\n"
   ]
  },
  {
   "cell_type": "code",
   "execution_count": 15,
   "metadata": {},
   "outputs": [
    {
     "name": "stdout",
     "output_type": "stream",
     "text": [
      "favourite language: \n",
      "\tpython \n",
      "\tc \n",
      "\tjava \n",
      "\tc++\n"
     ]
    }
   ],
   "source": [
    "print('favourite language:','\\n\\tpython','\\n\\tc','\\n\\tjava','\\n\\tc++')\n"
   ]
  },
  {
   "cell_type": "code",
   "execution_count": 16,
   "metadata": {},
   "outputs": [
    {
     "name": "stdout",
     "output_type": "stream",
     "text": [
      "favourite language: \t\n",
      "python \t\n",
      "c \t\n",
      "java \t\n",
      "c++\n"
     ]
    }
   ],
   "source": [
    "print('favourite language:','\\t\\npython','\\t\\nc','\\t\\njava','\\t\\nc++')\n"
   ]
  },
  {
   "cell_type": "code",
   "execution_count": 17,
   "metadata": {},
   "outputs": [
    {
     "name": "stdout",
     "output_type": "stream",
     "text": [
      "favourite language: \n",
      "python \n",
      "c \n",
      "java \n",
      "c++\n"
     ]
    }
   ],
   "source": [
    "print('favourite language:','\\npython','\\nc','\\njava','\\nc++')\n"
   ]
  },
  {
   "cell_type": "code",
   "execution_count": null,
   "metadata": {},
   "outputs": [],
   "source": []
  }
 ],
 "metadata": {
  "kernelspec": {
   "display_name": "Python 3",
   "language": "python",
   "name": "python3"
  },
  "language_info": {
   "codemirror_mode": {
    "name": "ipython",
    "version": 3
   },
   "file_extension": ".py",
   "mimetype": "text/x-python",
   "name": "python",
   "nbconvert_exporter": "python",
   "pygments_lexer": "ipython3",
   "version": "3.7.6"
  }
 },
 "nbformat": 4,
 "nbformat_minor": 4
}
