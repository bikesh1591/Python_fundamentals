{
 "cells": [
  {
   "cell_type": "code",
   "execution_count": null,
   "metadata": {},
   "outputs": [],
   "source": [
    "#Introduction  to function"
   ]
  },
  {
   "cell_type": "code",
   "execution_count": 13,
   "metadata": {},
   "outputs": [],
   "source": [
    "def greet_user():\n",
    "    \n",
    "    \"\"\"Greet the User\"\"\"\n",
    "    \n",
    "    user_name = input('Enter the name: ')\n",
    "    \n",
    "    print(f\"Good morning {user_name.title()}! How are you?\")"
   ]
  },
  {
   "cell_type": "code",
   "execution_count": 14,
   "metadata": {},
   "outputs": [
    {
     "name": "stdout",
     "output_type": "stream",
     "text": [
      "Enter the name: bicky\n",
      "Good morning Bicky! How are you?\n"
     ]
    }
   ],
   "source": [
    "greet_user()"
   ]
  },
  {
   "cell_type": "code",
   "execution_count": 1,
   "metadata": {},
   "outputs": [],
   "source": [
    "#Function to print fruit name and fruit color\n",
    "\n",
    "def fruit_detail():\n",
    "    \n",
    "    \"\"\"Print the fruit details\"\"\"\n",
    "    \n",
    "    fruit_name = input('Enter the fruit name: ')\n",
    "    fruit_color = input('Enter the fruit color: ')\n",
    "    fruit_rate = input('Enter the rate')\n",
    "    \n",
    "    print(f\"Fruit name is {fruit_name.title()} and fruit color is {fruit_color.title()}.\")\n",
    "    print(f\"\\n{fruit_name.title()} rate is Rs. {fruit_rate}.\")\n",
    "        \n"
   ]
  },
  {
   "cell_type": "code",
   "execution_count": 3,
   "metadata": {},
   "outputs": [
    {
     "name": "stdout",
     "output_type": "stream",
     "text": [
      "Enter the fruit name: apple\n",
      "Enter the fruit color: red\n",
      "Enter the rate\n",
      "Fruit name is Apple and fruit color is Red.\n",
      "\n",
      "Apple rate is Rs. .\n"
     ]
    }
   ],
   "source": [
    "fruit_detail()"
   ]
  },
  {
   "cell_type": "code",
   "execution_count": 8,
   "metadata": {},
   "outputs": [],
   "source": [
    "#Function to print fruit name and fruit color\n",
    "\n",
    "def fruit_detail(fruit_name,fruit_color,fruit_rate,rate_unit):\n",
    "    \n",
    "    \"\"\"Print the fruit details\"\"\"\n",
    "    \n",
    "    print(f\"Fruit name is {fruit_name.title()} and fruit color is {fruit_color.title()}.\")\n",
    "    \n",
    "    print(f\"\\n{fruit_name.title()} rate is Rs. {fruit_rate} per {rate_unit}\")"
   ]
  },
  {
   "cell_type": "code",
   "execution_count": 9,
   "metadata": {},
   "outputs": [
    {
     "name": "stdout",
     "output_type": "stream",
     "text": [
      "Fruit name is Apple and fruit color is Red.\n",
      "\n",
      "Apple rate is Rs. 52 per KG\n"
     ]
    }
   ],
   "source": [
    "fruit_detail('apple','red', '52','KG')\n"
   ]
  },
  {
   "cell_type": "code",
   "execution_count": 1,
   "metadata": {},
   "outputs": [],
   "source": [
    "#Funtion definition\n",
    "#Req: To take input from user and display the result\n",
    "\n",
    "def fruit_detail(fruit_name,fruit_color,fruit_rate,rate_unit):\n",
    "    \n",
    "    \"\"\"Print the fruit details by taking input from user\"\"\"\n",
    "\n",
    "    print(f\"Fruit name is {fruit_name.title()} and fruit color is {fruit_color.title()}.\")\n",
    "        \n",
    "    print(f\"\\n{fruit_name.title()} rate is Rs. {fruit_rate} per {rate_unit}\")\n",
    "    \n",
    "\n"
   ]
  },
  {
   "cell_type": "code",
   "execution_count": 6,
   "metadata": {},
   "outputs": [
    {
     "name": "stdout",
     "output_type": "stream",
     "text": [
      "Enter the fruit name: apple\n",
      "Enter the fruit color: red\n",
      "Enter the rate: 29\n",
      "Enter KG or Dozenkg\n",
      "Fruit name is Apple and fruit color is Red.\n",
      "\n",
      "Apple rate is Rs. 29 per kg\n"
     ]
    }
   ],
   "source": [
    "  #Function call\n",
    "\n",
    "fruit_name = input('Enter the fruit name: ')\n",
    "fruit_color = input('Enter the fruit color: ')\n",
    "fruit_rate = input('Enter the rate: ')\n",
    "rate_unit = input('Enter KG or Dozen')\n",
    "    \n",
    "fruit_detail(fruit_name,fruit_color,fruit_rate,rate_unit)"
   ]
  },
  {
   "cell_type": "code",
   "execution_count": 6,
   "metadata": {},
   "outputs": [],
   "source": [
    "def fruit_detail(fruit_name,fruit_color,fruit_rate,rate_unit='KG'):\n",
    "    \n",
    "    \"\"\"Print the fruit details by taking input from user\"\"\"\n",
    "\n",
    "    print(f\"\\nFruit name is {fruit_name.title()} and fruit color is {fruit_color.title()}.\")\n",
    "        \n",
    "    print(f\"\\n{fruit_name.title()} rate is Rs. {fruit_rate} per {rate_unit}\")\n",
    "    \n"
   ]
  },
  {
   "cell_type": "code",
   "execution_count": 7,
   "metadata": {},
   "outputs": [
    {
     "name": "stdout",
     "output_type": "stream",
     "text": [
      "Enter the fruit name: apple\n",
      "Enter the fruit color: red\n",
      "Enter the rate: 26\n",
      "\n",
      "Fruit name is Apple and fruit color is Red.\n",
      "\n",
      "Apple rate is Rs. 26 per KG\n"
     ]
    }
   ],
   "source": [
    "\n",
    "#Function call\n",
    "\n",
    "fruit_name = input('Enter the fruit name: ')\n",
    "fruit_color = input('Enter the fruit color: ')\n",
    "fruit_rate = input('Enter the rate: ')\n",
    "    \n",
    "fruit_detail(fruit_name,fruit_color,fruit_rate)"
   ]
  },
  {
   "cell_type": "code",
   "execution_count": 15,
   "metadata": {},
   "outputs": [],
   "source": [
    "#funtion with return value\n",
    "\n",
    "def full_name(first_name,last_name):\n",
    "    \n",
    "    \"\"\"Returning full name of the person\"\"\"\n",
    "    \n",
    "    full_name = f\"{first_name} {last_name}\"\n",
    "    \n",
    "    return full_name.title()"
   ]
  },
  {
   "cell_type": "code",
   "execution_count": 16,
   "metadata": {},
   "outputs": [
    {
     "name": "stdout",
     "output_type": "stream",
     "text": [
      "Enter first namebicky\n",
      "Enter last namesingh\n",
      "Bicky Singh\n"
     ]
    }
   ],
   "source": [
    "first_name = input('Enter first name')\n",
    "last_name = input('Enter last name')\n",
    "\n",
    "print(full_name(first_name,last_name))"
   ]
  },
  {
   "cell_type": "code",
   "execution_count": 23,
   "metadata": {},
   "outputs": [],
   "source": [
    "#function which return a dictionary\n",
    "\n",
    "def student_details(first_name,last_name,course,roll_number):\n",
    "    \n",
    "    \"\"\"Student details\"\"\"\n",
    "    \n",
    "    student_details = {'first':'first_name','last':'last_name','course':'course','roll_no':roll_number}\n",
    "    \n",
    "    return student_details"
   ]
  },
  {
   "cell_type": "code",
   "execution_count": 26,
   "metadata": {},
   "outputs": [
    {
     "name": "stdout",
     "output_type": "stream",
     "text": [
      "{'first': 'first_name', 'last': 'last_name', 'course': 'course', 'roll_no': 11539587}\n"
     ]
    }
   ],
   "source": [
    "student = student_details('bicky','singh','B.Tech',11539587)\n",
    "\n",
    "print(student)"
   ]
  },
  {
   "cell_type": "code",
   "execution_count": 32,
   "metadata": {},
   "outputs": [],
   "source": [
    "#Passing a list to the function\n",
    "\n",
    "list1 = ['bicky','singh','raj','sweety','sinha','pawan']\n",
    "\n",
    "def greet_person(names):\n",
    "    \n",
    "    for name in names:\n",
    "        print(f\"Hello {name.title()}, how are you?\")\n",
    "              "
   ]
  },
  {
   "cell_type": "code",
   "execution_count": 33,
   "metadata": {},
   "outputs": [
    {
     "name": "stdout",
     "output_type": "stream",
     "text": [
      "Hello Bicky, how are you?\n",
      "Hello Singh, how are you?\n",
      "Hello Raj, how are you?\n",
      "Hello Sweety, how are you?\n",
      "Hello Sinha, how are you?\n",
      "Hello Pawan, how are you?\n"
     ]
    }
   ],
   "source": [
    "greet_person(list1)"
   ]
  },
  {
   "cell_type": "code",
   "execution_count": null,
   "metadata": {},
   "outputs": [],
   "source": []
  }
 ],
 "metadata": {
  "kernelspec": {
   "display_name": "Python 3",
   "language": "python",
   "name": "python3"
  },
  "language_info": {
   "codemirror_mode": {
    "name": "ipython",
    "version": 3
   },
   "file_extension": ".py",
   "mimetype": "text/x-python",
   "name": "python",
   "nbconvert_exporter": "python",
   "pygments_lexer": "ipython3",
   "version": "3.7.6"
  }
 },
 "nbformat": 4,
 "nbformat_minor": 4
}
