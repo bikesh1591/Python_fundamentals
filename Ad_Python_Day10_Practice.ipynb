{
 "cells": [
  {
   "cell_type": "code",
   "execution_count": null,
   "metadata": {},
   "outputs": [],
   "source": [
    "#Undersatnding the concepr of shallow copying and deep copying"
   ]
  },
  {
   "cell_type": "code",
   "execution_count": 1,
   "metadata": {},
   "outputs": [],
   "source": [
    "import numpy as np"
   ]
  },
  {
   "cell_type": "code",
   "execution_count": 2,
   "metadata": {},
   "outputs": [
    {
     "data": {
      "text/plain": [
       "array(['apple', 'orange', 'banana', 'mango'], dtype='<U6')"
      ]
     },
     "execution_count": 2,
     "metadata": {},
     "output_type": "execute_result"
    }
   ],
   "source": [
    "fruits = np.array(['apple','orange','banana','mango'])\n",
    "\n",
    "fruits"
   ]
  },
  {
   "cell_type": "code",
   "execution_count": 3,
   "metadata": {},
   "outputs": [
    {
     "name": "stdout",
     "output_type": "stream",
     "text": [
      "['apple' 'orange' 'banana' 'mango']\n",
      "['apple' 'orange' 'banana' 'mango']\n"
     ]
    }
   ],
   "source": [
    "basket1 = fruits.view()\n",
    "\n",
    "basket2 = fruits.view()\n",
    "\n",
    "print(basket1)\n",
    "print(basket2)"
   ]
  },
  {
   "cell_type": "code",
   "execution_count": 4,
   "metadata": {},
   "outputs": [
    {
     "name": "stdout",
     "output_type": "stream",
     "text": [
      "ID for fruits are: \n",
      "\n",
      "1171006785696\n"
     ]
    }
   ],
   "source": [
    "print('ID for fruits are: \\n')\n",
    "print(id(fruits))"
   ]
  },
  {
   "cell_type": "code",
   "execution_count": 5,
   "metadata": {},
   "outputs": [
    {
     "name": "stdout",
     "output_type": "stream",
     "text": [
      "ID for baskets are: \n",
      "\n",
      "1171006838224\n",
      "1171006857504\n"
     ]
    }
   ],
   "source": [
    "print('ID for baskets are: \\n')\n",
    "print(id(basket1))\n",
    "print(id(basket2))"
   ]
  },
  {
   "cell_type": "code",
   "execution_count": 8,
   "metadata": {},
   "outputs": [
    {
     "name": "stdout",
     "output_type": "stream",
     "text": [
      "['apple' 'grapes' 'banana' 'mango']\n",
      "['apple' 'grapes' 'banana' 'mango']\n"
     ]
    }
   ],
   "source": [
    "basket1[1] = 'grapes' #shallow copy --make changes in the base data if any changes is made to view\n",
    "\n",
    "print(basket1)\n",
    "print(fruits)"
   ]
  },
  {
   "cell_type": "code",
   "execution_count": 10,
   "metadata": {},
   "outputs": [
    {
     "name": "stdout",
     "output_type": "stream",
     "text": [
      "['apple' 'orange' 'banana' 'mango']\n"
     ]
    }
   ],
   "source": [
    "#Deep Copying\n",
    "fruits = np.array(['apple','orange','banana','mango'])\n",
    "\n",
    "basket = fruits.copy()  #base data donot get change even after changing data in copy\n",
    "\n",
    "print(basket)"
   ]
  },
  {
   "cell_type": "code",
   "execution_count": 11,
   "metadata": {},
   "outputs": [
    {
     "data": {
      "text/plain": [
       "False"
      ]
     },
     "execution_count": 11,
     "metadata": {},
     "output_type": "execute_result"
    }
   ],
   "source": [
    "basket is fruits"
   ]
  },
  {
   "cell_type": "code",
   "execution_count": 12,
   "metadata": {},
   "outputs": [
    {
     "data": {
      "text/plain": [
       "False"
      ]
     },
     "execution_count": 12,
     "metadata": {},
     "output_type": "execute_result"
    }
   ],
   "source": [
    "basket.base is fruits"
   ]
  },
  {
   "cell_type": "code",
   "execution_count": 13,
   "metadata": {},
   "outputs": [
    {
     "name": "stdout",
     "output_type": "stream",
     "text": [
      "['apple' 'orange' 'banana' 'mango']\n",
      "['apple' 'orange' 'banana' 'mango']\n"
     ]
    }
   ],
   "source": [
    "print(fruits)\n",
    "print(basket)"
   ]
  },
  {
   "cell_type": "code",
   "execution_count": 19,
   "metadata": {},
   "outputs": [
    {
     "name": "stdout",
     "output_type": "stream",
     "text": [
      "['apple' 'orange' 'banana' 'mango']\n",
      "['apple' 'waterm' 'banana' 'mango']\n"
     ]
    }
   ],
   "source": [
    "basket[1] = 'watermelon'\n",
    "\n",
    "print(fruits)\n",
    "print(basket)"
   ]
  },
  {
   "cell_type": "code",
   "execution_count": null,
   "metadata": {},
   "outputs": [],
   "source": []
  }
 ],
 "metadata": {
  "kernelspec": {
   "display_name": "Python 3",
   "language": "python",
   "name": "python3"
  },
  "language_info": {
   "codemirror_mode": {
    "name": "ipython",
    "version": 3
   },
   "file_extension": ".py",
   "mimetype": "text/x-python",
   "name": "python",
   "nbconvert_exporter": "python",
   "pygments_lexer": "ipython3",
   "version": "3.7.6"
  }
 },
 "nbformat": 4,
 "nbformat_minor": 4
}
