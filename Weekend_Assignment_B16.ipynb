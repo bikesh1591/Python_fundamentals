{
 "cells": [
  {
   "cell_type": "code",
   "execution_count": null,
   "metadata": {},
   "outputs": [],
   "source": [
    "#Activity1:\n",
    "\n",
    "#Resturant:\n",
    "\n",
    "#Make a class called Restaurant. The __init__() method for Restaurant should store two attributes:\n",
    "#a restaurant_name and a cuisine_type. Make a method called describe_restaurant() that prints these \n",
    "#two pieces of information, and a method called open_restaurant() that prints a message indicating that \n",
    "#the restaurant is open.\n",
    "#Make an instance called restaurant from your class. Print the two attributes individually, and then call both methods."
   ]
  },
  {
   "cell_type": "code",
   "execution_count": 39,
   "metadata": {},
   "outputs": [],
   "source": [
    "class Restaurant:\n",
    "    \n",
    "    \"\"\"Details of Restaurant and cuisine\"\"\"\n",
    "    \n",
    "    def __init__(self,restaurant_name,cuisine_type):\n",
    "        \n",
    "        self.restaurant_name = restaurant_name\n",
    "        self.cuisine_type = cuisine_type\n",
    "        \n",
    "    def describe_restaurant(self):\n",
    "        \n",
    "        print(f\"Restaurant name is {self.restaurant_name.title()}.\")\n",
    "        print(f\"\\nCuisine type is {self.cuisine_type.title()}.\")\n",
    "        \n",
    "    def open_restaurant(self):\n",
    "        \n",
    "        print('\\nRestaurant is open.')\n",
    "        "
   ]
  },
  {
   "cell_type": "code",
   "execution_count": 40,
   "metadata": {},
   "outputs": [],
   "source": [
    "restaurant_detail = Restaurant('singh dhaba','chicken kadhi')"
   ]
  },
  {
   "cell_type": "code",
   "execution_count": 41,
   "metadata": {},
   "outputs": [
    {
     "name": "stdout",
     "output_type": "stream",
     "text": [
      "Singh Dhaba\n"
     ]
    }
   ],
   "source": [
    "print(restaurant_detail.restaurant_name.title())  #printing name of the resturant"
   ]
  },
  {
   "cell_type": "code",
   "execution_count": 42,
   "metadata": {},
   "outputs": [
    {
     "name": "stdout",
     "output_type": "stream",
     "text": [
      "Chicken Kadhi\n"
     ]
    }
   ],
   "source": [
    "print(restaurant_detail.cuisine_type.title())   #printing cuisine name"
   ]
  },
  {
   "cell_type": "code",
   "execution_count": 43,
   "metadata": {},
   "outputs": [
    {
     "name": "stdout",
     "output_type": "stream",
     "text": [
      "Restaurant name is Singh Dhaba.\n",
      "\n",
      "Cuisine type is Chicken Kadhi.\n"
     ]
    }
   ],
   "source": [
    "restaurant_detail.describe_restaurant()    #method describe_restaurant called"
   ]
  },
  {
   "cell_type": "code",
   "execution_count": 44,
   "metadata": {},
   "outputs": [
    {
     "name": "stdout",
     "output_type": "stream",
     "text": [
      "\n",
      "Restaurant is open.\n"
     ]
    }
   ],
   "source": [
    "restaurant_detail.open_restaurant()     #method open_restaurant called"
   ]
  },
  {
   "cell_type": "code",
   "execution_count": 45,
   "metadata": {},
   "outputs": [
    {
     "name": "stdout",
     "output_type": "stream",
     "text": [
      "Restaurant name is Singh Dhaba.\n",
      "\n",
      "Cuisine type is Chicken Kadhi.\n",
      "\n",
      "Restaurant is open.\n"
     ]
    }
   ],
   "source": [
    "restaurant_detail.describe_restaurant()   #both method called together\n",
    "restaurant_detail.open_restaurant()"
   ]
  },
  {
   "cell_type": "code",
   "execution_count": null,
   "metadata": {},
   "outputs": [],
   "source": []
  },
  {
   "cell_type": "code",
   "execution_count": null,
   "metadata": {},
   "outputs": [],
   "source": [
    "#Acitivity2:\n",
    "\n",
    "#Ice Cream Stand: \n",
    "\n",
    "#An ice cream stand is a specific kind of restaurant. Write a class called IceCreamStand that inherits\n",
    "#from the Restaurant class you wrote above. Add an attribute called flavors that stores a list of ice \n",
    "#cream flavors. Write a method that displays these flavors. Create an instance of IceCreamStand, and call this method. "
   ]
  },
  {
   "cell_type": "code",
   "execution_count": 79,
   "metadata": {},
   "outputs": [],
   "source": [
    "class IceCreamStand(Restaurant):\n",
    "    \n",
    "    \"\"\"Details about icecream stand\"\"\"\n",
    "    \n",
    "    \n",
    "    \n",
    "    def flavors_display():\n",
    "    \n",
    "        print('Available flavors are: \\n') \n",
    "        \n",
    "        for flavor in flavors:\n",
    "            \n",
    "              print(flavor.title())\n",
    "    "
   ]
  },
  {
   "cell_type": "code",
   "execution_count": 80,
   "metadata": {},
   "outputs": [],
   "source": [
    "flavors = ['vanilla','mango','chocobar','orange','kesar-kulfi']"
   ]
  },
  {
   "cell_type": "code",
   "execution_count": 81,
   "metadata": {},
   "outputs": [
    {
     "name": "stdout",
     "output_type": "stream",
     "text": [
      "Available flavors are: \n",
      "\n",
      "Vanilla\n",
      "Mango\n",
      "Chocobar\n",
      "Orange\n",
      "Kesar-Kulfi\n"
     ]
    }
   ],
   "source": [
    "IceCreamStand.flavors_display()"
   ]
  },
  {
   "cell_type": "code",
   "execution_count": 76,
   "metadata": {},
   "outputs": [],
   "source": [
    "IceCreamStand_details = IceCreamStand('singh dhaba','chicken')"
   ]
  },
  {
   "cell_type": "code",
   "execution_count": 78,
   "metadata": {},
   "outputs": [
    {
     "name": "stdout",
     "output_type": "stream",
     "text": [
      "Restaurant name is Singh Dhaba.\n",
      "\n",
      "Cuisine type is Chicken.\n"
     ]
    }
   ],
   "source": [
    "IceCreamStand_details.describe_restaurant()"
   ]
  },
  {
   "cell_type": "code",
   "execution_count": null,
   "metadata": {},
   "outputs": [],
   "source": []
  }
 ],
 "metadata": {
  "kernelspec": {
   "display_name": "Python 3",
   "language": "python",
   "name": "python3"
  },
  "language_info": {
   "codemirror_mode": {
    "name": "ipython",
    "version": 3
   },
   "file_extension": ".py",
   "mimetype": "text/x-python",
   "name": "python",
   "nbconvert_exporter": "python",
   "pygments_lexer": "ipython3",
   "version": "3.7.6"
  }
 },
 "nbformat": 4,
 "nbformat_minor": 4
}
